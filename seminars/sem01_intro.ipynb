{
 "cells": [
  {
   "cell_type": "markdown",
   "metadata": {},
   "source": [
    "# Машинное обучение\n",
    "## Факультет математики НИУ ВШЭ, 2021-22 учебный год\n",
    "*Илья Щуров, Екатерина Глазкова, Тимур Петров*\n",
    "\n",
    "[Страница курса](http://wiki.cs.hse.ru/Машинное_обучение_на_матфаке_2022)"
   ]
  },
  {
   "cell_type": "markdown",
   "metadata": {
    "id": "SCQfJh-2Evft"
   },
   "source": [
    "# Семинар 1: Введение в numpy, pandas, matplotlib"
   ]
  },
  {
   "cell_type": "markdown",
   "metadata": {
    "id": "Gr70_uUMNO8f"
   },
   "source": [
    "## Command line\n",
    "\n",
    "Чтобы выполнять команды в jupyter notebook можно использовать в ячейке с кодом \"!\" перед командой. \n",
    "\n",
    "**ls (list)** перечисляет все файлы в текущей директории"
   ]
  },
  {
   "cell_type": "code",
   "execution_count": null,
   "metadata": {
    "id": "P7Yh7WmePIZB"
   },
   "outputs": [],
   "source": [
    "! ls "
   ]
  },
  {
   "cell_type": "markdown",
   "metadata": {
    "id": "PFt714v-PgCt"
   },
   "source": [
    "**pwd** - print working directory"
   ]
  },
  {
   "cell_type": "code",
   "execution_count": null,
   "metadata": {
    "id": "IAYyONqcPaxh"
   },
   "outputs": [],
   "source": [
    "! pwd "
   ]
  },
  {
   "cell_type": "markdown",
   "metadata": {
    "id": "qeD0u-FOPveG"
   },
   "source": [
    "**mkdir** - make directory"
   ]
  },
  {
   "cell_type": "code",
   "execution_count": null,
   "metadata": {
    "id": "dHReR7etPp8b"
   },
   "outputs": [],
   "source": [
    "!mkdir my_new_awesome_dir\n",
    "!ls "
   ]
  },
  {
   "cell_type": "markdown",
   "metadata": {
    "id": "NYg1PzZjQKM9"
   },
   "source": [
    "**cd** - change directory\n",
    "\n",
    "**mv** - move\n",
    "\n",
    "**rm** - remove\n",
    "\n",
    "**cp** - copy\n",
    "\n",
    "**echo** - выдать на выход строку-аргумент\n",
    "\n",
    "**touch** - создание пустого файла "
   ]
  },
  {
   "cell_type": "code",
   "execution_count": null,
   "metadata": {
    "id": "q8AdGjarP5pl"
   },
   "outputs": [],
   "source": [
    "! rm -r my_new_awesome_dir\n",
    "!ls"
   ]
  },
  {
   "cell_type": "code",
   "execution_count": null,
   "metadata": {
    "id": "o4O6VxajNprz"
   },
   "outputs": [],
   "source": [
    "! touch 1.txt"
   ]
  },
  {
   "cell_type": "code",
   "execution_count": null,
   "metadata": {
    "id": "Yz64WDRMObxt"
   },
   "outputs": [],
   "source": [
    "! echo \"Hello!\""
   ]
  },
  {
   "cell_type": "code",
   "execution_count": null,
   "metadata": {
    "id": "rOR3P8mHNwjV"
   },
   "outputs": [],
   "source": [
    "! echo \"Hello!\" > 1.txt"
   ]
  },
  {
   "cell_type": "markdown",
   "metadata": {
    "id": "KOeTaqunsATe"
   },
   "source": [
    "## NumPy - Numerical Python \n",
    "\n",
    "NumPy - модуль Python предназначенный для эффективных матричных вычислений. Модуль реализован на языке C и предоставляет огромное количество встроенных операций над матрицами, поэтому использование циклов `while` и `for` считается дурным тоном. Про преимущества NumPy над обычными списками Python можно почитать [в этом посте](https://stackoverflow.com/questions/993984/what-are-the-advantages-of-numpy-over-regular-python-lists).\n",
    "В реальной работе с Python очень часто приходится разбираться со сторонними модулями, поэтому, важно научиться пользоваться официальной документацией. NumPy имеет отличную [документацию](https://numpy.org/doc/1.19/), в которой подробно описаны функции, аргументы, а также приведены примеры использования. Более того, документация содержит [руководство по использованию для начинающих](https://numpy.org/doc/1.19/user/absolute_beginners.html), поэтому, для начала ознакомьтесь с ним."
   ]
  },
  {
   "cell_type": "markdown",
   "metadata": {
    "id": "joRGr2xXEvfy"
   },
   "source": [
    "Установить модуль можно через `pip` или `conda`. Если у вас есть сложности с установкой сторонних модулей (например, намучались с установкой Pygame), то лучше делайте это задание в Google Colab.  \n",
    "\n",
    "Импортируем модуль:"
   ]
  },
  {
   "cell_type": "code",
   "execution_count": null,
   "metadata": {
    "id": "-WoasyadsN_P"
   },
   "outputs": [],
   "source": [
    "# !pip3 install numpy # так устанавливаются библиотеки"
   ]
  },
  {
   "cell_type": "code",
   "execution_count": null,
   "metadata": {
    "id": "9w6COVzfsCE6"
   },
   "outputs": [],
   "source": [
    "import numpy"
   ]
  },
  {
   "cell_type": "code",
   "execution_count": null,
   "metadata": {
    "id": "HySnaagqsExm"
   },
   "outputs": [],
   "source": [
    "import numpy as np # переименовываем то, как к нему кратко обращаться, чтобы использовать его функции и методы (так можно сделать с любым модулем)"
   ]
  },
  {
   "cell_type": "markdown",
   "metadata": {
    "id": "GCTtMn7RSC4k"
   },
   "source": [
    "### NumPy Array (ndarray)\n",
    "\n",
    "Документация содержит [руководство по использованию для начинающих](https://numpy.org/doc/1.19/user/absolute_beginners.html). Чтобы разобраться в том, как работать с модулем и выполнить последующие задания прочитайте это руководство."
   ]
  },
  {
   "cell_type": "code",
   "execution_count": null,
   "metadata": {
    "id": "sSk7WrCSsW7S"
   },
   "outputs": [],
   "source": [
    "# обычный список\n",
    "a = np.array([1, 2, 3]) \n",
    "np.\n",
    "print(a)\n",
    "print(type(a))"
   ]
  },
  {
   "cell_type": "code",
   "execution_count": null,
   "metadata": {
    "id": "8lIVuackSBcu"
   },
   "outputs": [],
   "source": [
    "# можно указать желаемый тип\n",
    "a = np.array([10, 100, 10000, 1], dtype=str)\n",
    "print(a)\n",
    "a[0] = 1000000\n",
    "print(a)"
   ]
  },
  {
   "cell_type": "code",
   "execution_count": null,
   "metadata": {
    "id": "87ZSy_7ySAyb"
   },
   "outputs": [],
   "source": [
    "# многомерные массивы\n",
    "a = np.array([[1, 2], [3, 4]]) \n",
    "print(a)\n",
    "b = np.array([[[1, 2], [3, 4]], [[1, 2], [3, 4]]]) \n",
    "print(b)"
   ]
  },
  {
   "cell_type": "markdown",
   "metadata": {
    "id": "KxNGNMITTRCd"
   },
   "source": [
    "### Аттрибуты numpy array"
   ]
  },
  {
   "cell_type": "code",
   "execution_count": null,
   "metadata": {
    "id": "5PuRsDvURjCx"
   },
   "outputs": [],
   "source": [
    "# размерности массива\n",
    "print(a.shape, b.shape)\n",
    "# число размерностей\n",
    "print(a.ndim, b.ndim)"
   ]
  },
  {
   "cell_type": "markdown",
   "metadata": {
    "id": "u3RRHQOKVael"
   },
   "source": [
    "### Изменение размера массива"
   ]
  },
  {
   "cell_type": "code",
   "execution_count": null,
   "metadata": {
    "id": "ZQeH3bj-VaDJ"
   },
   "outputs": [],
   "source": [
    "c = b.reshape(2, 4)\n",
    "print(c)\n",
    "print(c.shape)"
   ]
  },
  {
   "cell_type": "code",
   "execution_count": null,
   "metadata": {
    "id": "zNOLys00Vm4m"
   },
   "outputs": [],
   "source": [
    "line = b.reshape(1, -1) # -1 значит \"столько сколько понадобится\", то есть возможный остаток\n",
    "print(line)\n",
    "print(line.shape)"
   ]
  },
  {
   "cell_type": "code",
   "execution_count": null,
   "metadata": {
    "id": "kp2EZK2eVthx"
   },
   "outputs": [],
   "source": [
    "column = b.reshape(-1, 1)\n",
    "print(column)\n",
    "print(column.shape)"
   ]
  },
  {
   "cell_type": "code",
   "execution_count": null,
   "metadata": {
    "id": "qw1qAzGbY2gf"
   },
   "outputs": [],
   "source": [
    "other = b.reshape(4, -1)\n",
    "print(other)\n",
    "print(other.shape)\n",
    "\n",
    "other = b.reshape(1, -1, 2)\n",
    "print(other)\n",
    "print(other.shape)"
   ]
  },
  {
   "cell_type": "code",
   "execution_count": null,
   "metadata": {
    "id": "UJVap0LCY9mp"
   },
   "outputs": [],
   "source": [
    "b.reshape(3, -1) # должно делиться!"
   ]
  },
  {
   "cell_type": "code",
   "execution_count": null,
   "metadata": {
    "id": "LJDq6quqjnoo"
   },
   "outputs": [],
   "source": [
    "# превращает в одномерный массив\n",
    "line = b.flatten()\n",
    "print(line)\n",
    "print(line.shape)"
   ]
  },
  {
   "cell_type": "code",
   "execution_count": null,
   "metadata": {
    "id": "NoJPnZaIj_vs"
   },
   "outputs": [],
   "source": [
    "# транспонирование\n",
    "print(a, a.T, a.transpose(), sep='\\n\\n')"
   ]
  },
  {
   "cell_type": "markdown",
   "metadata": {
    "id": "3sGNbUc3UkwD"
   },
   "source": [
    "### Создание массивов"
   ]
  },
  {
   "cell_type": "markdown",
   "metadata": {
    "id": "zlAgxUN-UunQ"
   },
   "source": [
    "С помощью функций ```np.ones, np.zeros``` создайте два массива: \n",
    "1. Массив из целых чисел 42 размером 10 х 4 \n",
    "2. Массив из символов нулей размером 100 х 100\n"
   ]
  },
  {
   "cell_type": "code",
   "execution_count": null,
   "metadata": {
    "id": "ZbgB6fLcXKVN"
   },
   "outputs": [],
   "source": [
    "all_answers = np.ones((10, 4)) * 42\n",
    "zeros = np.zeros((100, 100))"
   ]
  },
  {
   "cell_type": "markdown",
   "metadata": {
    "id": "glWGe92Rl80O"
   },
   "source": [
    "Создайте массив №1 по-другому - спомощью функции ``np.full`` и сравните, какой способ быстрее с помощью  \"магической\" функции ``%timeit``"
   ]
  },
  {
   "cell_type": "code",
   "execution_count": null,
   "metadata": {
    "id": "Tboji8jcln3o"
   },
   "outputs": [],
   "source": [
    "%timeit np.full((100, 100), 42)\n",
    "%timeit np.ones((100, 100)) * 42"
   ]
  },
  {
   "cell_type": "code",
   "execution_count": null,
   "metadata": {
    "id": "RWolm8Qmmv34"
   },
   "outputs": [],
   "source": []
  },
  {
   "cell_type": "markdown",
   "metadata": {
    "id": "-MNFOpMEXPEX"
   },
   "source": [
    "Изучите, выдает ли функция ```np.empty``` пустой массив (объясните реузльтат работы этой функции)"
   ]
  },
  {
   "cell_type": "code",
   "execution_count": null,
   "metadata": {
    "id": "eY0pzixpXfDg",
    "scrolled": true
   },
   "outputs": [],
   "source": [
    "np.empty(10)"
   ]
  },
  {
   "cell_type": "markdown",
   "metadata": {
    "id": "f25Qb9-CXfXY"
   },
   "source": [
    "С помощью ```%timeit``` замерьте, что быстрее $-$ создать пустой массив или массив нулей"
   ]
  },
  {
   "cell_type": "code",
   "execution_count": null,
   "metadata": {
    "id": "OQszHLlLEvf9"
   },
   "outputs": [],
   "source": [
    "%timeit np.empty((100, 100))\n",
    "%timeit np.zeros((100, 100))"
   ]
  },
  {
   "cell_type": "code",
   "execution_count": null,
   "metadata": {
    "id": "K9n7wjcjVF2O"
   },
   "outputs": [],
   "source": []
  },
  {
   "cell_type": "markdown",
   "metadata": {
    "id": "AveX7OnGYAGa"
   },
   "source": [
    "С помощью функции ```np.arange``` и метода изменения формы массива создайте массив четных чисел от 0 до 100 (не включительно) такой, что в каждой строке новый десяток, то есть:\n",
    "```\n",
    "0, 2...\n",
    "10, 12...\n",
    "...\n",
    "90, 92...\n",
    "```"
   ]
  },
  {
   "cell_type": "code",
   "execution_count": null,
   "metadata": {
    "id": "eTdvMssNYFcJ"
   },
   "outputs": [],
   "source": [
    "even = np.arange(0, 99, 2).reshape(10, 5)"
   ]
  },
  {
   "cell_type": "code",
   "execution_count": null,
   "metadata": {
    "id": "fNJHe9r9YX3K"
   },
   "outputs": [],
   "source": [
    "even"
   ]
  },
  {
   "cell_type": "markdown",
   "metadata": {
    "id": "x8CHDyJtecMB"
   },
   "source": [
    "Создайте массив степеней 2 (целыми числами) от 0 до 10 с помощью функции ```np.logspace```"
   ]
  },
  {
   "cell_type": "code",
   "execution_count": null,
   "metadata": {
    "id": "C49be3ueeci3"
   },
   "outputs": [],
   "source": [
    "np.logspace"
   ]
  },
  {
   "cell_type": "markdown",
   "metadata": {
    "id": "DRL6CfrNfLUq"
   },
   "source": [
    "Создайте массив равноудаленных 50 точек на отрезке [0,1] (первая точка 0, последняя 1) с помощью функции ``np.linspace``"
   ]
  },
  {
   "cell_type": "code",
   "execution_count": null,
   "metadata": {
    "id": "f2Bk2YCRfL__"
   },
   "outputs": [],
   "source": []
  },
  {
   "cell_type": "markdown",
   "metadata": {
    "id": "TLDoQyT2bv23"
   },
   "source": [
    "Из данных списков сделайте нампай массивы с помощью функции ``np.asarray``"
   ]
  },
  {
   "cell_type": "code",
   "execution_count": null,
   "metadata": {
    "id": "oRf9ryVxcUdC"
   },
   "outputs": [],
   "source": [
    "a = [1, 2, 3, 4, 5]\n",
    "b = [[1, 2], [3, 4]]\n"
   ]
  },
  {
   "cell_type": "markdown",
   "metadata": {
    "id": "-1P8YMRwcZG7"
   },
   "source": [
    "Что будет, если создать нампай массив из \"неровного\" списка списков?"
   ]
  },
  {
   "cell_type": "code",
   "execution_count": null,
   "metadata": {
    "id": "6VSkyj78cmOa"
   },
   "outputs": [],
   "source": [
    "c = [[1, 2, 3], [4, 5]]\n"
   ]
  },
  {
   "cell_type": "code",
   "execution_count": null,
   "metadata": {
    "id": "uK04snZwcsvv"
   },
   "outputs": [],
   "source": []
  },
  {
   "cell_type": "markdown",
   "metadata": {
    "id": "0irRkXWjgXrO"
   },
   "source": [
    "#### Random\n",
    "Изучите функции [сабмодуля ```np.random```](https://docs.scipy.org/doc/numpy-1.14.1/reference/routines.random.html) и создайте следующие массивы:\n",
    "1. Массив из 10 случайных чисел из $U([0,1])$ (равномерное распределение на отрезке [0, 1])\n",
    "2. Массив 10х100 случайных чисел из $\\mathcal{N}(0,1)$ (стандартное нормальное распределение)\n",
    "3. Массив из случайных целых чисел от 0 до 100 размером 42 (с повторениями)\n",
    "4. Массив из случайной подвыборки чисел от 0 до 100 размером 42 (то же что 3, но без повторений)\n"
   ]
  },
  {
   "cell_type": "code",
   "execution_count": null,
   "metadata": {
    "id": "1G4Car37gYVx"
   },
   "outputs": [],
   "source": []
  },
  {
   "cell_type": "code",
   "execution_count": null,
   "metadata": {
    "id": "ILQ2OuSmhnR_"
   },
   "outputs": [],
   "source": []
  },
  {
   "cell_type": "code",
   "execution_count": null,
   "metadata": {
    "id": "MecrbyDRhnJp"
   },
   "outputs": [],
   "source": []
  },
  {
   "cell_type": "code",
   "execution_count": null,
   "metadata": {
    "id": "9Y8CNIzLhm-e"
   },
   "outputs": [],
   "source": []
  },
  {
   "cell_type": "markdown",
   "metadata": {
    "id": "ij-MHfYBBhmG"
   },
   "source": [
    "### Работа с массивами"
   ]
  },
  {
   "cell_type": "markdown",
   "metadata": {
    "id": "HKt5nUDk_nmO"
   },
   "source": [
    "С помощью `np.where` для случайного вектора верните вектор, где отрицательные элементы заменены 0"
   ]
  },
  {
   "cell_type": "code",
   "execution_count": null,
   "metadata": {
    "id": "iLV3Lj1N_4Yk"
   },
   "outputs": [],
   "source": []
  },
  {
   "cell_type": "markdown",
   "metadata": {
    "id": "JoV0STQ7_4yo"
   },
   "source": [
    "Дан массив 10х3, который будет использован как массив с цветами RGB (каждый канал обозначается целым числом от 0 до 255). С помощью `np.clip` ограничьте значения массива."
   ]
  },
  {
   "cell_type": "code",
   "execution_count": null,
   "metadata": {
    "id": "Lq2qD0iYAnv3"
   },
   "outputs": [],
   "source": []
  },
  {
   "cell_type": "markdown",
   "metadata": {
    "id": "go76xR1jBlI_"
   },
   "source": [
    "С помощью `np.vstack` и `np.hstack` склейте две квадратные матрицы размера 3 по вертикали и по горизонтали"
   ]
  },
  {
   "cell_type": "code",
   "execution_count": null,
   "metadata": {
    "id": "Xh2KyYIRB7ph"
   },
   "outputs": [],
   "source": []
  },
  {
   "cell_type": "markdown",
   "metadata": {
    "id": "z6AFui8FB8Os"
   },
   "source": [
    "Для данного вектора с помощью `np.unique` составьте массив, в котором первый столбец - уникальные значения вектора, а второй столбец соответсвует тому сколько раз соответственный элемент первого столбца встретился в векторе (строки упорядочены по убыванию частоты элемента в векторе)"
   ]
  },
  {
   "cell_type": "code",
   "execution_count": null,
   "metadata": {
    "id": "1utpdSaQCd2i"
   },
   "outputs": [],
   "source": [
    "a = np.random.randint(-2, 2, 20)\n",
    "a"
   ]
  },
  {
   "cell_type": "markdown",
   "metadata": {
    "id": "EpzEFNT4Y3Z3"
   },
   "source": [
    "С помощью `np.insert` в случайный вектор встаьте на четные индексы нули."
   ]
  },
  {
   "cell_type": "code",
   "execution_count": null,
   "metadata": {
    "id": "vrl9pRi-C-F3"
   },
   "outputs": [],
   "source": []
  },
  {
   "cell_type": "markdown",
   "metadata": {
    "id": "96y5xq6IgKkk"
   },
   "source": [
    "### Индексирование/срезы"
   ]
  },
  {
   "cell_type": "markdown",
   "metadata": {
    "id": "IDbl4SSr7LCd"
   },
   "source": [
    "Особенность нампай массивов $-$ индексирование. Например:"
   ]
  },
  {
   "cell_type": "code",
   "execution_count": null,
   "metadata": {
    "id": "tQKk6NLSdIYi"
   },
   "outputs": [],
   "source": [
    "a = np.random.randint(-10, 10, (10,5))\n",
    "print(a)\n"
   ]
  },
  {
   "cell_type": "code",
   "execution_count": null,
   "metadata": {
    "id": "_0EFV65E9WVf"
   },
   "outputs": [],
   "source": [
    "print(a[1,2])\n"
   ]
  },
  {
   "cell_type": "code",
   "execution_count": null,
   "metadata": {
    "id": "P8gLqLXH9XMW"
   },
   "outputs": [],
   "source": [
    "print(a[[0,2,7], 1:4:2])\n"
   ]
  },
  {
   "cell_type": "code",
   "execution_count": null,
   "metadata": {
    "id": "1tTv17x19Xxu"
   },
   "outputs": [],
   "source": [
    "print(a[:, [True, False, True, True, False]])\n"
   ]
  },
  {
   "cell_type": "code",
   "execution_count": null,
   "metadata": {
    "id": "SyhuOi0a9YaI"
   },
   "outputs": [],
   "source": [
    "print(a[np.random.randint(0, 10, 10)])"
   ]
  },
  {
   "cell_type": "markdown",
   "metadata": {
    "id": "xwGV_9wDE9hP"
   },
   "source": [
    "Необходимо заметить как необходимо делать индексирование в случае многомерных массивов, символ `...` означает взять как можно больше измерений, чтобы произвести наиболее полное индексирование"
   ]
  },
  {
   "cell_type": "code",
   "execution_count": null,
   "metadata": {
    "id": "WKQghLQCE9hJ"
   },
   "outputs": [],
   "source": [
    "b = np.random.rand(2,3,4,5,6,7)\n",
    "b[..., :3].shape == b[:,:,:,:,:, :3].shape"
   ]
  },
  {
   "cell_type": "markdown",
   "metadata": {
    "id": "LaTsEYlV9yG8"
   },
   "source": [
    "Создайте массив из строк данной матрицы `a` таких, что первый элемент строки положительный"
   ]
  },
  {
   "cell_type": "code",
   "execution_count": null,
   "metadata": {
    "id": "lEuxIMLR-Hlp"
   },
   "outputs": [],
   "source": []
  },
  {
   "cell_type": "markdown",
   "metadata": {
    "id": "crxuVUa28P6_"
   },
   "source": [
    "Для данной матрицы `a` получите матрицу с ее угловыми элементами"
   ]
  },
  {
   "cell_type": "code",
   "execution_count": null,
   "metadata": {
    "id": "tX3qYKSR8N_u"
   },
   "outputs": [],
   "source": []
  },
  {
   "cell_type": "markdown",
   "metadata": {
    "id": "K3aUqC5X-TTR"
   },
   "source": [
    "Создайте вектор из случайных семи элементов матрицы"
   ]
  },
  {
   "cell_type": "code",
   "execution_count": null,
   "metadata": {
    "id": "WogTO0Fg-f6P"
   },
   "outputs": [],
   "source": []
  },
  {
   "cell_type": "markdown",
   "metadata": {
    "id": "OWBBfwfM-gZV"
   },
   "source": [
    "Создайте случайный вектор размера 10 и с помощью фукнции `np.argsort` отсортируйте его (по возрастанию)"
   ]
  },
  {
   "cell_type": "code",
   "execution_count": null,
   "metadata": {
    "id": "BmBYxg2g-0cU"
   },
   "outputs": [],
   "source": []
  },
  {
   "cell_type": "markdown",
   "metadata": {
    "id": "lkWegyCH-08j"
   },
   "source": [
    "Создайте случайный масиив 4х4 и верните индексы положительных элементов (`np.argwhere`)"
   ]
  },
  {
   "cell_type": "code",
   "execution_count": null,
   "metadata": {
    "id": "Mo3du5eX-9lL"
   },
   "outputs": [],
   "source": []
  },
  {
   "cell_type": "markdown",
   "metadata": {
    "id": "F4BqByrKiieg"
   },
   "source": [
    "### Broadcasting"
   ]
  },
  {
   "cell_type": "markdown",
   "metadata": {
    "id": "_fSHq6piF-MR"
   },
   "source": [
    "В отличие от обычных списков нампай массивы поддерживают поэлементные арифметические операции, более того даже для массивов разных размерностей (не размеров!). Так например:"
   ]
  },
  {
   "cell_type": "code",
   "execution_count": null,
   "metadata": {
    "id": "5-1rAwV-il7D"
   },
   "outputs": [],
   "source": [
    "a = np.arange(0, 11)\n",
    "b = np.arange(10, 21)\n",
    "print(a, b)"
   ]
  },
  {
   "cell_type": "code",
   "execution_count": null,
   "metadata": {
    "id": "ujng5s7bGcYR"
   },
   "outputs": [],
   "source": [
    "a * b"
   ]
  },
  {
   "cell_type": "code",
   "execution_count": null,
   "metadata": {
    "id": "Z8ku_a6OGRr1"
   },
   "outputs": [],
   "source": [
    "a + b"
   ]
  },
  {
   "cell_type": "code",
   "execution_count": null,
   "metadata": {
    "id": "2Etg_5V-GRlT"
   },
   "outputs": [],
   "source": [
    "a - b"
   ]
  },
  {
   "cell_type": "code",
   "execution_count": null,
   "metadata": {
    "id": "l5EeFhw1GRcl"
   },
   "outputs": [],
   "source": [
    "a / b"
   ]
  },
  {
   "cell_type": "markdown",
   "metadata": {
    "id": "kslA4d98GpU2"
   },
   "source": [
    "Чтобы применить арифметические операции к матрице и вектору надо чтобы они имели одну и ту же длину хотя бы одной из рамерностей, то есть:"
   ]
  },
  {
   "cell_type": "code",
   "execution_count": null,
   "metadata": {
    "id": "MocBwGKcGneo"
   },
   "outputs": [],
   "source": [
    "M = np.arange(15).reshape(3,5)\n",
    "v1 = np.array([1, 3, 5]).reshape(-1, 1)\n",
    "v2 = np.array([2, 4, 6, 8, 10]).reshape(1, -1)\n",
    "print(M.shape, v1.shape, v2.shape)\n",
    "print(M, v1, v2, sep='\\n')"
   ]
  },
  {
   "cell_type": "code",
   "execution_count": null,
   "metadata": {
    "id": "vwDxR6CvGnMM"
   },
   "outputs": [],
   "source": [
    "M + v1"
   ]
  },
  {
   "cell_type": "code",
   "execution_count": null,
   "metadata": {
    "id": "S7M88ieSH4kO"
   },
   "outputs": [],
   "source": [
    "M + v2"
   ]
  },
  {
   "cell_type": "markdown",
   "metadata": {
    "id": "j-ZM4XIRIJoI"
   },
   "source": [
    "Применить броадкаст к двум массивам возможно, если у массива с меньшим `ndim` существующие размерности совпадают по длине с большим массивом, а остальные размерности дополнены единичкой в `shape` (как мы делали reshape векторов (-1, **1**) чтобы сделать их `ndim` равным 2)"
   ]
  },
  {
   "cell_type": "markdown",
   "metadata": {
    "id": "IVA4faU-imlK"
   },
   "source": [
    "### Математика: матрицы, функции"
   ]
  },
  {
   "cell_type": "markdown",
   "metadata": {
    "id": "P3MYJh5W0pk8"
   },
   "source": [
    "Сравните время работы встроенной функции `sum` и `np.sum` (с помощью %timeit)"
   ]
  },
  {
   "cell_type": "code",
   "execution_count": null,
   "metadata": {
    "id": "Jl_258zH0pSP"
   },
   "outputs": [],
   "source": []
  },
  {
   "cell_type": "markdown",
   "metadata": {
    "id": "aXzBjKXV1LQr"
   },
   "source": [
    "Создайте две матрицы 100х100 и напишите сначала функцию, которая перемножает эти две матрицы без использования `numpy`, а потом сравните время ее работы с функцией `numpy`"
   ]
  },
  {
   "cell_type": "code",
   "execution_count": null,
   "metadata": {
    "id": "u4KRxuyd1MBm"
   },
   "outputs": [],
   "source": []
  },
  {
   "cell_type": "markdown",
   "metadata": {
    "id": "I1qVR8FUosAl"
   },
   "source": [
    "Создайте единичную матрицу размера 7 `np.identity`"
   ]
  },
  {
   "cell_type": "code",
   "execution_count": null,
   "metadata": {
    "id": "UVcAzluQoxgw"
   },
   "outputs": [],
   "source": []
  },
  {
   "cell_type": "markdown",
   "metadata": {
    "id": "mhw1YI-Cor9i"
   },
   "source": [
    "Создайте матрицу 10х4, у которой на главной диагонали стоят единицы, а остальные элементы нулевые (`np.eye`)"
   ]
  },
  {
   "cell_type": "code",
   "execution_count": null,
   "metadata": {
    "id": "60tsImRkn70h"
   },
   "outputs": [],
   "source": []
  },
  {
   "cell_type": "markdown",
   "metadata": {
    "id": "MHUP7zGf4nj4"
   },
   "source": [
    "Создайте любые два вектора и перемножьте их, чтобы получить матрицу (в нампай вектор это строка, а не столбец, поэтому $A = x^Ty$)"
   ]
  },
  {
   "cell_type": "code",
   "execution_count": null,
   "metadata": {
    "id": "hkl8G9yn58pM"
   },
   "outputs": [],
   "source": []
  },
  {
   "cell_type": "markdown",
   "metadata": {
    "id": "GosSc6V46IP_"
   },
   "source": [
    "У предыдущей матрицы возьмите ее диагональные элементы и создайте матрицу с такой же диагональю, но остальные элементы нулевые (`np.diag`) "
   ]
  },
  {
   "cell_type": "code",
   "execution_count": null,
   "metadata": {
    "id": "13MCE5ai6YJt"
   },
   "outputs": [],
   "source": []
  },
  {
   "cell_type": "markdown",
   "metadata": {
    "id": "kiS93VZiqvwn"
   },
   "source": [
    "Создайте матрицу случайных целых чисел от в интервале от 1 до 10 размера 5х5 и посчитайте следующее ([сабмодуль `np.linalg`](https://docs.scipy.org/doc/numpy/reference/routines.linalg.html)):\n",
    "- определитель матрицы\n",
    "- обратную матрицу\n",
    "- произведение матрицы на саму себя\n",
    "- собственные вектора"
   ]
  },
  {
   "cell_type": "code",
   "execution_count": null,
   "metadata": {
    "id": "WlD-CW3Rrjtp"
   },
   "outputs": [],
   "source": [
    "A = "
   ]
  },
  {
   "cell_type": "code",
   "execution_count": null,
   "metadata": {
    "id": "cvnH-SkGz2n6"
   },
   "outputs": [],
   "source": []
  },
  {
   "cell_type": "code",
   "execution_count": null,
   "metadata": {
    "id": "uNTbUWsuz2X0"
   },
   "outputs": [],
   "source": []
  },
  {
   "cell_type": "code",
   "execution_count": null,
   "metadata": {
    "id": "CwWp3otJz2OP"
   },
   "outputs": [],
   "source": []
  },
  {
   "cell_type": "code",
   "execution_count": null,
   "metadata": {
    "id": "ghZlu_kSz12r"
   },
   "outputs": [],
   "source": []
  },
  {
   "cell_type": "markdown",
   "metadata": {
    "id": "dnsE9yuFwsI1"
   },
   "source": [
    "Для данных двух векторов посчитайте их косинусное расстояние:\n",
    "$$cos(a,b) = \\frac{(a,b)}{|a||b|},$$\n",
    "где $|a| = \\sqrt{(a,a)}$,  $(a,b) = ab^T$"
   ]
  },
  {
   "cell_type": "code",
   "execution_count": null,
   "metadata": {
    "id": "gRJ8KX5_yCIn"
   },
   "outputs": [],
   "source": [
    "a = np.ones(10)\n",
    "b = np.full(10, 2)\n"
   ]
  },
  {
   "cell_type": "markdown",
   "metadata": {
    "id": "H0wPdDX0yBhP"
   },
   "source": [
    "Для матрицы A посчитайте ее норму Фробениуса:\n",
    "$$\\|A\\|_F = \\sqrt{tr(AA^*)}$$"
   ]
  },
  {
   "cell_type": "code",
   "execution_count": null,
   "metadata": {
    "id": "SI81QmMuyxKL"
   },
   "outputs": [],
   "source": [
    "A = np.random.randint(-2,2, (4,4)) + 1j * np.random.random((4,4))\n"
   ]
  },
  {
   "cell_type": "markdown",
   "metadata": {
    "id": "Syy495Q8zTG8"
   },
   "source": [
    "Создайте случайный вектор размера 10 из отрицательных и положительных чисел, создайте из него массив, являющийся куммулятивной суммой вектора $sign(x)$ (`np.sign`, `np.cumsum`)"
   ]
  },
  {
   "cell_type": "code",
   "execution_count": null,
   "metadata": {
    "id": "rPeVZZulzSlZ"
   },
   "outputs": [],
   "source": []
  },
  {
   "cell_type": "markdown",
   "metadata": {
    "id": "7YOLQpLmz-eT"
   },
   "source": [
    "Выберите любую интересную математическую формулу и используя функции отсюда https://docs.scipy.org/doc/numpy-1.13.0/reference/routines.math.html создайте функцию, которая будет считать вашу формулу."
   ]
  },
  {
   "cell_type": "code",
   "execution_count": null,
   "metadata": {
    "id": "bvWnAc5c0UOo"
   },
   "outputs": [],
   "source": [
    "def formula(<your code>):\n",
    "    <your code>\n",
    "\n",
    "formula()"
   ]
  },
  {
   "cell_type": "markdown",
   "metadata": {
    "id": "wsMNujcqoGz5"
   },
   "source": [
    "### Статистика"
   ]
  },
  {
   "cell_type": "markdown",
   "metadata": {
    "id": "J-0WdzxooKqA"
   },
   "source": [
    "Создайте случайный (любой) массив 100х100"
   ]
  },
  {
   "cell_type": "code",
   "execution_count": null,
   "metadata": {
    "id": "znDAzyheoGQ-"
   },
   "outputs": [],
   "source": [
    "a = "
   ]
  },
  {
   "cell_type": "markdown",
   "metadata": {
    "id": "kJduc1Mhp9mo"
   },
   "source": [
    "Найдите его среднее - общее, по столбцам и по строкам (`np.mean`)"
   ]
  },
  {
   "cell_type": "code",
   "execution_count": null,
   "metadata": {
    "id": "qqp_G0Zvp_0J"
   },
   "outputs": [],
   "source": []
  },
  {
   "cell_type": "markdown",
   "metadata": {
    "id": "mBj0cRWiprgB"
   },
   "source": [
    "Посчитайте стандартное отклонение, дисперсию, медиану, минимальное и максимальное значения, 9-персентиль."
   ]
  },
  {
   "cell_type": "code",
   "execution_count": null,
   "metadata": {
    "id": "aPHF-LpSqAOA"
   },
   "outputs": [],
   "source": []
  },
  {
   "cell_type": "code",
   "execution_count": null,
   "metadata": {
    "id": "eiuBFlqaEvgO"
   },
   "outputs": [],
   "source": []
  },
  {
   "cell_type": "markdown",
   "metadata": {
    "id": "eCXmymyuNJYf"
   },
   "source": [
    "Больше упражнений по numpy -  https://github.com/rougier/numpy-100/blob/master/100_Numpy_exercises.ipynb"
   ]
  },
  {
   "cell_type": "markdown",
   "metadata": {
    "id": "iuRkKUVqfxxJ"
   },
   "source": [
    "## Pandas\n",
    "\n",
    "В этот раз мы кратко изучим библиотеку `pandas`. Эта библиотека предназначена для работы с табличными большими данными. Иногда его функционал похож на какой-нибудь Microsoft Excel, за исключением того, что это все внутри python-а и порой использовать программисту намного удобнее и привычнее. Одна из основных библиотек из machine-learning набора."
   ]
  },
  {
   "cell_type": "markdown",
   "metadata": {
    "id": "vry0yl1Yhm67"
   },
   "source": [
    "<img src=\"https://24.kz/media/k2/items/cache/8ddf184842db861ab0b18c352a42b866_XL.jpg\" alt=\"ПАНДЫ!!!\" width=\"500\"/>"
   ]
  },
  {
   "cell_type": "code",
   "execution_count": null,
   "metadata": {
    "id": "EALeWxR7EvgR"
   },
   "outputs": [],
   "source": [
    "# !pip3 install pandas"
   ]
  },
  {
   "cell_type": "code",
   "execution_count": null,
   "metadata": {
    "id": "I9sl1zHKguPe"
   },
   "outputs": [],
   "source": [
    "# для начала импортируем панд :)\n",
    "import pandas as pd "
   ]
  },
  {
   "cell_type": "code",
   "execution_count": null,
   "metadata": {
    "id": "dM9rqo9Rft98"
   },
   "outputs": [],
   "source": [
    "# далее непонятный код, чтобы скачать архив с таблицой данных про велосипеды, просто запустите ячейку!\n",
    "# !wget -O data.zip https://archive.ics.uci.edu/ml/machine-learning-databases/00275/Bike-Sharing-Dataset.zip \n",
    "!unzip data.zip"
   ]
  },
  {
   "cell_type": "markdown",
   "metadata": {
    "id": "BJCsbtXfi4Bj"
   },
   "source": [
    "### Загрузка данных\n",
    "\n",
    "`pandas` также имеет достаточно хорошую [документацию](https://pandas.pydata.org/pandas-docs/stable/index.html) с руководставами по использованию. Первым делом ознакомьтесь с руководством [10 minutes to pandas](https://pandas.pydata.org/pandas-docs/stable/user_guide/10min.html#min).\n",
    "\n",
    "С помощью функции `read_csv` [(ссылка на документацию)](https://pandas.pydata.org/pandas-docs/stable/reference/api/pandas.read_csv.html) загрузите файл `hour.csv` в переменную с именем `data`. Укажите в параметрах, что первая строка - строка с названиями столбцов (`header`), а первый столбец - индекс (`index_col`). "
   ]
  },
  {
   "cell_type": "code",
   "execution_count": null,
   "metadata": {
    "id": "q1-X3-19gZsT"
   },
   "outputs": [],
   "source": [
    "data = \n",
    "# csv - comma separated values - формат тамбличных данных"
   ]
  },
  {
   "cell_type": "code",
   "execution_count": null,
   "metadata": {
    "id": "qugi52JdgtJD"
   },
   "outputs": [],
   "source": [
    "data.head() # этот метод возвращает первые N строк таблицы, где по дефолту N=5\n",
    "\n",
    "# ЗАМЕТЬТЕ что в jupyter notebook (это там где мы сейчас работаем) необязательно все выводить с помощью\n",
    "# функции print(), среда всегда показывает в output ячейки кода (code cell) возвращенное значение последней строки (если такое имеется)\n",
    "# поэтому не надо делать print(data.head()), а достаточно data.head()"
   ]
  },
  {
   "cell_type": "markdown",
   "metadata": {
    "id": "-BpysGrikbL-"
   },
   "source": [
    "С помощью `tail()` выведите последние 10 строк."
   ]
  },
  {
   "cell_type": "code",
   "execution_count": null,
   "metadata": {
    "id": "gaTrDznWgxSm"
   },
   "outputs": [],
   "source": []
  },
  {
   "cell_type": "markdown",
   "metadata": {
    "id": "AKWfkDg8lTYD"
   },
   "source": [
    "С помощью `shape` (прямо как в numpy!) определите число строк и столбцов"
   ]
  },
  {
   "cell_type": "code",
   "execution_count": null,
   "metadata": {
    "id": "5w22Mr9mlTum"
   },
   "outputs": [],
   "source": []
  },
  {
   "cell_type": "markdown",
   "metadata": {
    "id": "MMS5N1fgJNvD"
   },
   "source": [
    "С помощью `index` и `columns` выведите индекс и названия столбцов датасета"
   ]
  },
  {
   "cell_type": "code",
   "execution_count": null,
   "metadata": {
    "id": "LJmH4BLEJdAW"
   },
   "outputs": [],
   "source": []
  },
  {
   "cell_type": "markdown",
   "metadata": {
    "id": "rXlZBJiwmYnY"
   },
   "source": [
    "С помощью `info()` получите информацию о датасете и опишите, что вы с ее помощью можете понять о данных. С помощью [текстового описания данных](https://archive.ics.uci.edu/ml/datasets/bike+sharing+dataset#) кратко опишите датасет."
   ]
  },
  {
   "cell_type": "code",
   "execution_count": null,
   "metadata": {
    "id": "LpYEoFHCmm7B"
   },
   "outputs": [],
   "source": []
  },
  {
   "cell_type": "code",
   "execution_count": null,
   "metadata": {
    "id": "Q3RLETbtmn-1"
   },
   "outputs": [],
   "source": [
    "#\n",
    "#\n",
    "#"
   ]
  },
  {
   "cell_type": "markdown",
   "metadata": {
    "id": "uQZ72KF_nDJ2"
   },
   "source": [
    "### Индексирование\n",
    "\n",
    "Как и numpy массивы, пандас умеет в индексирование, но немного иначе, например:"
   ]
  },
  {
   "cell_type": "code",
   "execution_count": null,
   "metadata": {
    "id": "XpUnKD3GnCPu"
   },
   "outputs": [],
   "source": [
    "data['yr']"
   ]
  },
  {
   "cell_type": "code",
   "execution_count": null,
   "metadata": {
    "id": "4xcvapDsnTnY"
   },
   "outputs": [],
   "source": [
    "data['cnt'][1] # по названию столбца и названию (!) индекса (мы не найдем индекс 0, потому что его нет в колонке индекса)"
   ]
  },
  {
   "cell_type": "code",
   "execution_count": null,
   "metadata": {
    "id": "jOIjKLvYoD5z"
   },
   "outputs": [],
   "source": [
    "data['dteday'][1] "
   ]
  },
  {
   "cell_type": "code",
   "execution_count": null,
   "metadata": {
    "id": "bLLoAN7znc_7"
   },
   "outputs": [],
   "source": [
    "data.iloc[0, -1] # с помощью ЦЕЛОЧИСЛЕННЫХ индексов : i_integer loc_ation (здесь индекс имеет ввиду как обычный индекс списка, т.е. 0, 1,...)"
   ]
  },
  {
   "cell_type": "code",
   "execution_count": null,
   "metadata": {
    "id": "blEFh1tlIlzQ"
   },
   "outputs": [],
   "source": [
    "data.iloc[:, 3] # выбрали значения столбца mnth"
   ]
  },
  {
   "cell_type": "code",
   "execution_count": null,
   "metadata": {
    "id": "KAE-6C6RJ7oZ"
   },
   "outputs": [],
   "source": [
    "data.loc[:,'yr':'hr'] # LOCation - множественный выбор по названиям столбцов и индексов"
   ]
  },
  {
   "cell_type": "code",
   "execution_count": null,
   "metadata": {
    "id": "xoe8sGYdn4X0"
   },
   "outputs": [],
   "source": [
    "data.dteday[1] # с помощью \"поля\" по имени столбца и потом индекс строки"
   ]
  },
  {
   "cell_type": "code",
   "execution_count": null,
   "metadata": {
    "id": "ccDr4MogoCUb"
   },
   "outputs": [],
   "source": [
    "data[data.yr == 0] # с помощью булевого фильтра, то же самое - data.loc[data.yr == 0]"
   ]
  },
  {
   "cell_type": "code",
   "execution_count": null,
   "metadata": {
    "id": "CZGmfYVloNjm"
   },
   "outputs": [],
   "source": [
    "data.iloc[np.argsort(data.temp), [0, 3, 9, 10, 11, 12, 13, 15]] # по списку индексов\n",
    "# здесь мы взяли индексы отсортированного столбца temp (температура)"
   ]
  },
  {
   "cell_type": "markdown",
   "metadata": {
    "id": "2B3-op06H7FA"
   },
   "source": [
    "Изучите, какого типа возвращатся выбираемые столбец или строка?"
   ]
  },
  {
   "cell_type": "code",
   "execution_count": null,
   "metadata": {
    "id": "VzjbRHVxpWn4"
   },
   "outputs": [],
   "source": []
  },
  {
   "cell_type": "markdown",
   "metadata": {
    "id": "PAG3HO3-IEm1"
   },
   "source": [
    "А какого типа вся таблица данных?"
   ]
  },
  {
   "cell_type": "code",
   "execution_count": null,
   "metadata": {
    "id": "E3nsGpdAIMrf"
   },
   "outputs": [],
   "source": []
  },
  {
   "cell_type": "markdown",
   "metadata": {
    "id": "AuEHFYzYIjdr"
   },
   "source": [
    "Создайте датафрейм (от слова DataFrame), выбрав из данных только строки \"рабочих дней\" в декабре (12 месяц) и столбцы даты и последние три; покажите его первые 15 строк."
   ]
  },
  {
   "cell_type": "code",
   "execution_count": null,
   "metadata": {
    "id": "5gofkXzWLVrF"
   },
   "outputs": [],
   "source": [
    "new_data = "
   ]
  },
  {
   "cell_type": "markdown",
   "metadata": {
    "id": "1Wk1Irp9LWZt"
   },
   "source": [
    "### Создание таблиц"
   ]
  },
  {
   "cell_type": "code",
   "execution_count": null,
   "metadata": {
    "id": "CjvA7CyRLmmk"
   },
   "outputs": [],
   "source": [
    "# создание из списка списков, присваивая имена столбцам\n",
    "states = pd.DataFrame(\n",
    "            data = [['NJ', 'Towaco', 'Square'], \n",
    "                     ['CA', 'San Francisco', 'Oval'], \n",
    "                     ['TX', 'Austin', 'Triangle'], \n",
    "                     ['MD', 'Baltimore', 'Square'],\n",
    "                     ['OH', 'Columbus', 'Hexagon'], \n",
    "                     ['IL', 'Chicago', 'Circle']],\n",
    "            columns = ['State', 'City', 'Shape'])\n",
    "states"
   ]
  },
  {
   "cell_type": "markdown",
   "metadata": {
    "id": "qdeifWOONExu"
   },
   "source": [
    "Создайте датафрейм из нампай-массива, присвоив столбцам какие-нибудь названия названия. Сделайте одну из колонок индексом (`set_index`, будьте внимательны с параметром `inplace`)."
   ]
  },
  {
   "cell_type": "code",
   "execution_count": null,
   "metadata": {
    "id": "Jr5UlgQEMwiP"
   },
   "outputs": [],
   "source": []
  },
  {
   "cell_type": "markdown",
   "metadata": {
    "id": "F7ZUwlXpN44p"
   },
   "source": [
    "Создайте датафрейм из словаря, где столбцы это название фруктов, а индекс это имена, значения датафрейма - число купленных отдельных фруктов каждым человеком. "
   ]
  },
  {
   "cell_type": "code",
   "execution_count": null,
   "metadata": {
    "id": "_eHO68-CSqgK"
   },
   "outputs": [],
   "source": []
  },
  {
   "cell_type": "markdown",
   "metadata": {
    "id": "f6uX6ce0Stlc"
   },
   "source": [
    "Сохраните любой из выше созданных массивов в формате `csv` без названия столбцов (используйте параметры функции `to_csv`)"
   ]
  },
  {
   "cell_type": "code",
   "execution_count": null,
   "metadata": {
    "id": "Lc7qkbJcTSS1"
   },
   "outputs": [],
   "source": []
  },
  {
   "cell_type": "markdown",
   "metadata": {
    "id": "L3QbuWMzTS87"
   },
   "source": [
    "### Изменение\n"
   ]
  },
  {
   "cell_type": "markdown",
   "metadata": {
    "id": "l5P36L-DUy6A"
   },
   "source": [
    "Очевидно, наши табличные данные можно (и нужно!) менять. Как и обычные контейнеры (список, нампай эррэй, значения словаря), датафрейму можно присвоить новые значение. Делается это так:"
   ]
  },
  {
   "cell_type": "code",
   "execution_count": null,
   "metadata": {
    "id": "Np_VkbvKUyhL"
   },
   "outputs": [],
   "source": [
    "states.iloc[0, -1] = 'Flower'\n",
    "states"
   ]
  },
  {
   "cell_type": "markdown",
   "metadata": {
    "id": "8iEKJ_UIWrFN"
   },
   "source": [
    "Мы можем добавлять новый столбец:"
   ]
  },
  {
   "cell_type": "code",
   "execution_count": null,
   "metadata": {
    "id": "xn4wktaPVVot"
   },
   "outputs": [],
   "source": [
    "states['Size'] = [2**i for i in range(states.shape[0])] \n",
    "states"
   ]
  },
  {
   "cell_type": "markdown",
   "metadata": {
    "id": "dqwavURPWwzk"
   },
   "source": [
    "Или новую строку"
   ]
  },
  {
   "cell_type": "code",
   "execution_count": null,
   "metadata": {
    "id": "p7sPKeRKWCF2"
   },
   "outputs": [],
   "source": [
    "states.loc[10] = ['KL', 'Moscow', 'Box', 42]\n",
    "states"
   ]
  },
  {
   "cell_type": "markdown",
   "metadata": {
    "id": "qkAJamWZUDZs"
   },
   "source": [
    "Вернем к нашим велосипедам. Скопируйте датасет в новую переменную `data_upd`. Предположим в наших данных ошибка, и по воскресеньям на самом деле никаких покупок не совершалось. Соответствующие \"покупкам\" столбцы занулите в тех строках, которые соответствуют воскресенью (0 weekday)."
   ]
  },
  {
   "cell_type": "code",
   "execution_count": null,
   "metadata": {
    "id": "nHgGWLMIT7E5"
   },
   "outputs": [],
   "source": [
    "data_upd = "
   ]
  },
  {
   "cell_type": "markdown",
   "metadata": {
    "id": "BPPocIVaYp0A"
   },
   "source": [
    "С помощью `insert` добавьте столбец сразу после `windspeed`, который является произведением `temp` на `hum`, назовите его `feel`."
   ]
  },
  {
   "cell_type": "code",
   "execution_count": null,
   "metadata": {
    "id": "PcbEuUN0YD1O"
   },
   "outputs": [],
   "source": []
  },
  {
   "cell_type": "markdown",
   "metadata": {
    "id": "3yckMO97ZbLK"
   },
   "source": [
    "Покажите первые 15 строк обновленного датафрейма."
   ]
  },
  {
   "cell_type": "code",
   "execution_count": null,
   "metadata": {
    "id": "WlilUVa2s04b"
   },
   "outputs": [],
   "source": []
  },
  {
   "cell_type": "markdown",
   "metadata": {
    "id": "I6Xibi75dTqe"
   },
   "source": [
    "### Пропуски в данных \n",
    "В нашем датасете изначально не было NaN (not a number, None) значений, которые часто возникают, если, например, какое-то значение забыли записать в таблицу, либо просто таких данных не существовало, но для полноты таблицы какое-то значение надо было поставить и поставили NaN (например таблица, у которой индекс это год, а столбцы это демографические показатели, и столбец \"пользователи интернета\" до середины прошлого века ничем не заполнишь).\n",
    "\n",
    "Искусственным способом добавим \"наны\" в таблицу:"
   ]
  },
  {
   "cell_type": "code",
   "execution_count": null,
   "metadata": {
    "id": "JhThL8gEbR7R"
   },
   "outputs": [],
   "source": [
    "data_nan = data.copy()\n",
    "for _ in range(np.random.randint(0, 5000)):\n",
    "    data_nan.iloc[np.random.randint(0, data.shape[0]), np.random.randint(0, data.shape[1])] = np.nan\n"
   ]
  },
  {
   "cell_type": "markdown",
   "metadata": {
    "id": "cplcdrkcdQxT"
   },
   "source": [
    "С помощью `isnull` и `sum` посмотрите сколько всего пропущенных значений, сколько в каждом столбце?"
   ]
  },
  {
   "cell_type": "code",
   "execution_count": null,
   "metadata": {
    "id": "YUOW0evTdAoq"
   },
   "outputs": [],
   "source": []
  },
  {
   "cell_type": "markdown",
   "metadata": {
    "id": "qkwrMEVDdlcF"
   },
   "source": [
    "С помощью `fillna` заполните NaN средним или модой. \n"
   ]
  },
  {
   "cell_type": "code",
   "execution_count": null,
   "metadata": {
    "id": "Gwg2FXJKfVbG"
   },
   "outputs": [],
   "source": []
  },
  {
   "cell_type": "markdown",
   "metadata": {
    "id": "KURmg-exgqV1"
   },
   "source": [
    "Проверьте, есть ли у нас теперь пропущенные значения?"
   ]
  },
  {
   "cell_type": "code",
   "execution_count": null,
   "metadata": {
    "id": "UVhzFyGmguL-"
   },
   "outputs": [],
   "source": []
  },
  {
   "cell_type": "markdown",
   "metadata": {
    "id": "hobM9ZNOglgr"
   },
   "source": [
    "Возможно, что так просто заполнять пропущенные значения может быть неосмысленно или даже ошибочно. Почему? Подумайте, как было бы правильнее заполнить пропущенные значения в случае нашего датасета? (отталкивайтесь от данных!) Необязательно писать решение в виде кода, будет достаточно словами."
   ]
  },
  {
   "cell_type": "code",
   "execution_count": null,
   "metadata": {
    "id": "oR0_oTnUfnCh"
   },
   "outputs": [],
   "source": []
  },
  {
   "cell_type": "markdown",
   "metadata": {
    "id": "D4ZSKKHoZyjs"
   },
   "source": [
    "### Статистика \n",
    "\n",
    "Выберите любой (лучше интересный) столбец изначального датасета и соберите его статистики, с помощью методов `value_counts`, `nunique`, `min/max/mean/mode`. "
   ]
  },
  {
   "cell_type": "code",
   "execution_count": null,
   "metadata": {
    "id": "pqCufUjMhjzM"
   },
   "outputs": [],
   "source": []
  },
  {
   "cell_type": "markdown",
   "metadata": {
    "id": "EM1x62GdiIBU"
   },
   "source": [
    "### Advanced \n"
   ]
  },
  {
   "cell_type": "markdown",
   "metadata": {
    "id": "0nz4hYZYjvoC"
   },
   "source": [
    "Изучите работу метода `groupby` - сгруппируйте данные по месяцу, сезону или году. Какой тип у возвращаемого объекта?"
   ]
  },
  {
   "cell_type": "code",
   "execution_count": null,
   "metadata": {
    "id": "rbej18VckNpj"
   },
   "outputs": [],
   "source": []
  },
  {
   "cell_type": "markdown",
   "metadata": {
    "id": "hchn5HqOkOFp"
   },
   "source": [
    "Получите датафрейм сгруппированных значений - примените какую-нибудь аггрегирующую функцию (сумма, среднее, мин/макс, и т.п.) к сгруппированному объекту."
   ]
  },
  {
   "cell_type": "code",
   "execution_count": null,
   "metadata": {
    "id": "6kfJZLaAk43X"
   },
   "outputs": [],
   "source": []
  },
  {
   "cell_type": "markdown",
   "metadata": {
    "id": "oeT-xI5xjwxR"
   },
   "source": [
    "Изучите `apply`. Создайте функцию, которая на вход принимает дату в формате \"YYYY-MM-DD\", а выдает строку вида \"DD Month'YY\", примените её с помощью метода `apply` к столбцу с датой.\n"
   ]
  },
  {
   "cell_type": "code",
   "execution_count": null,
   "metadata": {
    "id": "VEE9lK3kEvgf"
   },
   "outputs": [],
   "source": []
  },
  {
   "cell_type": "markdown",
   "metadata": {
    "id": "y6csyhRZjxpE"
   },
   "source": [
    "Отсортируйте значения таблицы по двум столбцам - `cnt` и `weathersit` (`sort_values`)\n"
   ]
  },
  {
   "cell_type": "code",
   "execution_count": null,
   "metadata": {
    "id": "a5KaEnxkl9nv"
   },
   "outputs": [],
   "source": []
  },
  {
   "cell_type": "markdown",
   "metadata": {
    "id": "exNbII5qjzps"
   },
   "source": [
    "Нарисуйте график прибыли (число покупок `cnt` как сумма с каждым днем растет, вам поможет `cumsum`) с помощью `plot`. Обязательно подпишите оси и дайте графику название. "
   ]
  },
  {
   "cell_type": "code",
   "execution_count": null,
   "metadata": {
    "id": "U1eniUbjl-El"
   },
   "outputs": [],
   "source": []
  },
  {
   "cell_type": "markdown",
   "metadata": {
    "id": "K27j8dhmmmY7"
   },
   "source": [
    "Придумайте еще минимум два разных типа графиков (hist, density, scatter, box, kde), которыми можно визуализировать наш датасет, и изобразите их (подписи графиков обязательны!)"
   ]
  },
  {
   "cell_type": "code",
   "execution_count": null,
   "metadata": {
    "id": "ugECoo3lmmJT"
   },
   "outputs": [],
   "source": []
  },
  {
   "cell_type": "markdown",
   "metadata": {
    "id": "dGO1RIKtX13X"
   },
   "source": [
    "# Matplotlib/Seaborn\n"
   ]
  },
  {
   "cell_type": "markdown",
   "metadata": {
    "id": "K3CVYKJCJoCQ"
   },
   "source": [
    "Эти библиотеки умеют создавать визуализации данных -- диаграммы, графики, картинки и т.д.. Уметь ими пользоваться довольно полезный навык, так что давайте их поподробнее изучим. Обе библиотеки делают примерно одно и то же, просто seaborn становится популярнее и удобен в некоторых случаях в работе с pandas-таблицами."
   ]
  },
  {
   "cell_type": "code",
   "execution_count": null,
   "metadata": {
    "id": "Ss6aWPWWJoYO"
   },
   "outputs": [],
   "source": [
    "import matplotlib.pyplot as plt\n",
    "import seaborn as sns\n",
    "sns.set_style(\"darkgrid\") # просто задаем предпочтительный стиль отрисовывания графиков, это необязательный шаг"
   ]
  },
  {
   "cell_type": "markdown",
   "metadata": {
    "id": "E0jhn4-kL8Xz"
   },
   "source": [
    "### Линейные графики, правильное оформление графиков\n"
   ]
  },
  {
   "cell_type": "code",
   "execution_count": null,
   "metadata": {
    "id": "yN6xSCgpL7_d"
   },
   "outputs": [],
   "source": [
    "x = np.linspace(0,10,100)\n",
    "y = np.sin(x)\n",
    "\n",
    "plt.plot(x, y)\n",
    "plt.show() # нужен для отображения графика"
   ]
  },
  {
   "cell_type": "markdown",
   "metadata": {
    "id": "F1n9npIeMP0O"
   },
   "source": [
    "Чего не хватает на этом графике (да в принципе всего хватает, но чего не хватает для хорошего графика, понятного любому, кто не видел код, который его рисует, например)?\n",
    "1. Подпись графика\n",
    "2. Подпись осей\n",
    "3. Сетки\n",
    "4. *можно было бы сделать размер графика немного другим\n"
   ]
  },
  {
   "cell_type": "code",
   "execution_count": null,
   "metadata": {
    "id": "gP8jQE3DMODI"
   },
   "outputs": [],
   "source": [
    "plt.figure(figsize=(10,3)) # меняем размер \"фигуры\", где \"фигура\" - место, где рисуются все графики, так сказать холст\n",
    "plt.plot(x, y)\n",
    "plt.title('A sine wave')\n",
    "plt.xlabel('$x$') # подписываем ОХ\n",
    "plt.ylabel('$\\sin(x)$') # подписываем ОY\n",
    "plt.grid(True)\n",
    "plt.show()"
   ]
  },
  {
   "cell_type": "markdown",
   "metadata": {
    "id": "GYX2YNSePVKE"
   },
   "source": [
    "Хм, лучше подравнять пределы осей и добавить больше точек (засечек) для ОХ"
   ]
  },
  {
   "cell_type": "code",
   "execution_count": null,
   "metadata": {
    "id": "RjuSPWH0MOAD"
   },
   "outputs": [],
   "source": [
    "plt.figure(figsize=(10,3)) \n",
    "plt.plot(x, y)\n",
    "plt.title('A sine wave')\n",
    "plt.xlabel('$x$')\n",
    "plt.ylabel('$\\sin(x)$')\n",
    "\n",
    "plt.xlim(%, %) # показываем ось х от 0 до 10\n",
    "plt.ylim(%, %)  # показываем ось у от -1.5 до 1.5\n",
    "plt.xticks(np.arange(%, %, %), np.arange(%, %, %))  \n",
    "# делаем засечки от 0 до 10 с шагом 0.5 - сначала указываются места куда ставить, потом то, как подписывать засечки\n",
    "\n",
    "plt.grid(True)\n",
    "plt.show()"
   ]
  },
  {
   "cell_type": "markdown",
   "metadata": {
    "id": "q8ETc1X8Wbtb"
   },
   "source": [
    "Сделайте засечки на местах $0$, $0.5 \\pi$, $\\pi$, $1.5 \\pi$, $2 \\pi$, $2.5 \\pi$, $3 \\pi$ и подпишите соответсвенно (matplotlib умеет в LaTex - подавайте строку со знаком $ как обычно)"
   ]
  },
  {
   "cell_type": "code",
   "execution_count": null,
   "metadata": {
    "id": "J8E-EjQ8MN8M"
   },
   "outputs": [],
   "source": [
    "plt.figure(figsize=(10,3)) \n",
    "plt.plot(x, y)\n",
    "plt.title('A sine wave')\n",
    "plt.xlabel('$x$')\n",
    "plt.ylabel('$\\sin(x)$')\n",
    "plt.xlim(0, 10)\n",
    "plt.ylim(-1.5, 1.5)\n",
    "\n",
    "plt.xticks(<ВАШ КОД>)\n",
    "\n",
    "plt.grid(True)\n",
    "plt.show()"
   ]
  },
  {
   "cell_type": "markdown",
   "metadata": {
    "id": "z6P77KhXSa8F"
   },
   "source": [
    "Очевидно, что получившийся график лучше, чем график ниже, особенно если это касается каких-то неочевидных функций/значений"
   ]
  },
  {
   "cell_type": "code",
   "execution_count": null,
   "metadata": {
    "id": "ANDp5siAMN35"
   },
   "outputs": [],
   "source": [
    "plt.plot(x, y)\n",
    "plt.show()"
   ]
  },
  {
   "cell_type": "markdown",
   "metadata": {
    "id": "ZARos6bOStPb"
   },
   "source": [
    "### Визуализация нескольких графиков на одном\n"
   ]
  },
  {
   "cell_type": "markdown",
   "metadata": {
    "id": "mp2ox1OqTDVK"
   },
   "source": [
    "\n",
    "### Одновременно\n"
   ]
  },
  {
   "cell_type": "markdown",
   "metadata": {
    "id": "aIO1Kt0AXAx1"
   },
   "source": [
    "Достаточно для одного \"холста\" вызвать функцию `plt.plot` столько раз сколько необходимо, остальные функции \"для красоты\" буду применяться к \"холсту\"."
   ]
  },
  {
   "cell_type": "code",
   "execution_count": null,
   "metadata": {
    "id": "62L8AX5vTD5M"
   },
   "outputs": [],
   "source": [
    "plt.figure(figsize=(10,3)) \n",
    "\n",
    "plt.plot(x, y, label='$\\sin(x)$') # синус\n",
    "plt.plot(x, np.cos(x), label='$\\cos(x)$') # косинус\n",
    "\n",
    "plt.title('A sine and cosine waves')\n",
    "plt.xlabel('$x$')\n",
    "plt.ylabel('$f(x)$')\n",
    "plt.xlim(0, 10) \n",
    "plt.ylim(-1.5, 1.5) \n",
    "plt.xticks(np.array([0, 0.5, 1, 1.5, 2, 2.5, 3]) * np.pi, ['$0$', '$0.5 \\pi$', '$\\pi$', '$1.5 \\pi$', '$2 \\pi$', '$2.5 \\pi$', '$3 \\pi$'])\n",
    "plt.grid(True)\n",
    "\n",
    "plt.legend() # легенда какой график чему соответствует (работает если у графиков указаны параметры label) \n",
    "\n",
    "plt.show()"
   ]
  },
  {
   "cell_type": "code",
   "execution_count": null,
   "metadata": {
    "id": "HOlowkptamKa"
   },
   "outputs": [],
   "source": []
  },
  {
   "cell_type": "markdown",
   "metadata": {
    "id": "kPby8tMgTCjs"
   },
   "source": [
    "\n",
    "### Рядом"
   ]
  },
  {
   "cell_type": "code",
   "execution_count": null,
   "metadata": {
    "id": "ZmtH0JZoSqss"
   },
   "outputs": [],
   "source": [
    "plt.figure(figsize=(20,3))\n",
    "\n",
    "plt.subplot(1, 2, 1) # subplot(сколько строк графиков, сколько в каждой строке графиков, номер места куда ставить график который будет рисоваться далее)\n",
    "\n",
    "plt.plot(x, y) # синус\n",
    "plt.title('A sine wave')\n",
    "plt.xlabel('$x$')\n",
    "plt.ylabel('$\\sin(x)$')\n",
    "plt.xlim(0, 10) \n",
    "plt.ylim(-1.5, 1.5) \n",
    "plt.xticks(np.array([0, 0.5, 1, 1.5, 2, 2.5, 3]) * np.pi, ['$0$', '$0.5 \\pi$', '$\\pi$', '$1.5 \\pi$', '$2 \\pi$', '$2.5 \\pi$', '$3 \\pi$'])\n",
    "plt.grid(True)\n",
    "\n",
    "plt.subplot(1, 2, 2)\n",
    "\n",
    "plt.plot(x, np.cos(x)) # косинус\n",
    "plt.title('A cosine wave')\n",
    "plt.xlabel('$x$')\n",
    "plt.ylabel('$\\cos(x)$')\n",
    "plt.xlim(0, 10) \n",
    "plt.ylim(-1.5, 1.5) \n",
    "plt.xticks(np.array([0, 0.5, 1, 1.5, 2, 2.5, 3]) * np.pi, ['$0$', '$0.5 \\pi$', '$\\pi$', '$1.5 \\pi$', '$2 \\pi$', '$2.5 \\pi$', '$3 \\pi$'])\n",
    "plt.grid(True)\n",
    "\n",
    "plt.show()"
   ]
  },
  {
   "cell_type": "code",
   "execution_count": null,
   "metadata": {
    "id": "8riN9KklMNqI"
   },
   "outputs": [],
   "source": []
  },
  {
   "cell_type": "markdown",
   "metadata": {
    "id": "GD3lYTSia4Mm"
   },
   "source": [
    "## Нелинейный графики"
   ]
  },
  {
   "cell_type": "code",
   "execution_count": null,
   "metadata": {
    "id": "ju45HrsmJorG"
   },
   "outputs": [],
   "source": [
    "# загрузим данные, чтобы нам было что визуализировать\n",
    "dataset = pd.read_csv('https://web.stanford.edu/class/archive/cs/cs109/cs109.1166/stuff/titanic.csv')\n",
    "dataset.head()"
   ]
  },
  {
   "cell_type": "markdown",
   "metadata": {
    "id": "sfKd8gITdd0f"
   },
   "source": [
    "Давайте все таки теперь рассмотрим seaborn библиотеку. Она удобна тем, что много делает практически автоматически, если вы используете в качестве данных pandas.DataFrame)"
   ]
  },
  {
   "cell_type": "code",
   "execution_count": null,
   "metadata": {
    "id": "RTcC2A8Ua7nI"
   },
   "outputs": [],
   "source": [
    "sns.barplot(x='Pclass', y='Survived', data=dataset)\n",
    "plt.show()"
   ]
  },
  {
   "cell_type": "code",
   "execution_count": null,
   "metadata": {
    "id": "1kx_rT_ccNCw"
   },
   "outputs": [],
   "source": [
    "sns.scatterplot(x='Age', y='Fare', hue='Sex', data=dataset)\n",
    "plt.show()"
   ]
  },
  {
   "cell_type": "code",
   "execution_count": null,
   "metadata": {
    "id": "AWNIcQ7gnE6S"
   },
   "outputs": [],
   "source": [
    "sns.jointplot(x='Fare',y='Age', hue='Sex',data=dataset)"
   ]
  },
  {
   "cell_type": "code",
   "execution_count": null,
   "metadata": {
    "id": "nVm8aFFwRDG5"
   },
   "outputs": [],
   "source": [
    "g = sns.pairplot(dataset, hue=\"Survived\", diag_kind=\"kde\")"
   ]
  },
  {
   "cell_type": "markdown",
   "metadata": {
    "id": "9fY5qzxopyrE"
   },
   "source": [
    "Посмотрим примеры отсюда - https://seaborn.pydata.org/examples/index.html - и попробуем повторить."
   ]
  },
  {
   "cell_type": "code",
   "execution_count": null,
   "metadata": {
    "id": "jqj0A7NgEvgm"
   },
   "outputs": [],
   "source": []
  }
 ],
 "metadata": {
  "colab": {
   "collapsed_sections": [
    "GCTtMn7RSC4k",
    "KxNGNMITTRCd",
    "u3RRHQOKVael",
    "3sGNbUc3UkwD",
    "0irRkXWjgXrO",
    "ij-MHfYBBhmG",
    "96y5xq6IgKkk",
    "F4BqByrKiieg",
    "IVA4faU-imlK",
    "iuRkKUVqfxxJ",
    "BJCsbtXfi4Bj",
    "uQZ72KF_nDJ2",
    "1Wk1Irp9LWZt",
    "L3QbuWMzTS87",
    "I6Xibi75dTqe",
    "D4ZSKKHoZyjs",
    "EM1x62GdiIBU",
    "E0jhn4-kL8Xz",
    "ZARos6bOStPb",
    "mp2ox1OqTDVK",
    "kPby8tMgTCjs"
   ],
   "name": "sem01_intro.ipynb",
   "provenance": []
  },
  "kernelspec": {
   "display_name": "Python 3",
   "language": "python",
   "name": "python3"
  },
  "language_info": {
   "codemirror_mode": {
    "name": "ipython",
    "version": 3
   },
   "file_extension": ".py",
   "mimetype": "text/x-python",
   "name": "python",
   "nbconvert_exporter": "python",
   "pygments_lexer": "ipython3",
   "version": "3.6.10"
  }
 },
 "nbformat": 4,
 "nbformat_minor": 1
}
